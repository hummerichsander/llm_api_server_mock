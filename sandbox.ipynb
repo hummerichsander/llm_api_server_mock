{
 "cells": [
  {
   "cell_type": "code",
   "execution_count": 1,
   "metadata": {},
   "outputs": [],
   "source": [
    "from openai import OpenAI"
   ]
  },
  {
   "cell_type": "code",
   "execution_count": 2,
   "metadata": {},
   "outputs": [],
   "source": [
    "client = OpenAI(base_url=\"http://127.0.0.1:8000/v1\", api_key=\"not_needed\")"
   ]
  },
  {
   "cell_type": "code",
   "execution_count": 5,
   "metadata": {},
   "outputs": [],
   "source": [
    "chat_completion = client.chat.completions.create(\n",
    "    model=\"\",\n",
    "    messages=[\n",
    "        {\"role\": \"system\", \"content\": \"You are a helpful assistant.\"},\n",
    "        {\"role\": \"user\", \"content\": \"was geht ab?\"}\n",
    "    ],\n",
    "    max_tokens=3,\n",
    "    logprobs=True,\n",
    "    top_logprobs=3,\n",
    ")"
   ]
  },
  {
   "cell_type": "code",
   "execution_count": 9,
   "metadata": {},
   "outputs": [
    {
     "data": {
      "text/plain": [
       "ChoiceLogprobs(content=[ChatCompletionTokenLogprob(token='quisquam', bytes=None, logprob=-0.5277960075131407, top_logprobs=[TopLogprob(token='ipsum', bytes=None, logprob=-0.558106954065021), TopLogprob(token='tempore', bytes=None, logprob=-0.6165605603180487), TopLogprob(token='cum', bytes=None, logprob=-2.3270763400136825)]), ChatCompletionTokenLogprob(token='quidem', bytes=None, logprob=-0.14290051748270988, top_logprobs=[TopLogprob(token='nobis', bytes=None, logprob=-0.5166183384088926), TopLogprob(token='recusandae', bytes=None, logprob=-0.5402511250708856), TopLogprob(token='doloremque', bytes=None, logprob=-0.41740243412514305)]), ChatCompletionTokenLogprob(token='numquam', bytes=None, logprob=-0.6784509309558672, top_logprobs=[TopLogprob(token='porro', bytes=None, logprob=-2.9927572243187712), TopLogprob(token='dolore', bytes=None, logprob=-0.8789651854667693), TopLogprob(token='aliquid', bytes=None, logprob=-1.907694945191482)])])"
      ]
     },
     "execution_count": 9,
     "metadata": {},
     "output_type": "execute_result"
    }
   ],
   "source": [
    "chat_completion.choices[0].logprobs"
   ]
  },
  {
   "cell_type": "code",
   "execution_count": 25,
   "metadata": {},
   "outputs": [],
   "source": [
    "import random\n",
    "from math import log"
   ]
  },
  {
   "cell_type": "code",
   "execution_count": 26,
   "metadata": {},
   "outputs": [
    {
     "data": {
      "text/plain": [
       "-0.47787546995661145"
      ]
     },
     "execution_count": 26,
     "metadata": {},
     "output_type": "execute_result"
    }
   ],
   "source": [
    "log(random.uniform(0, 1))"
   ]
  },
  {
   "cell_type": "code",
   "execution_count": null,
   "metadata": {},
   "outputs": [
    {
     "name": "stdout",
     "output_type": "stream",
     "text": [
      "ChatCompletion(id='mock_123', choices=[Choice(finish_reason='stop', index=0, logprobs=None, message=ChatCompletionMessage(content='Nihil obcaecati et libero recusandae veritatis at est asperiores atque, beatae reprehenderit iusto consectetur ipsam asperiores ad pariatur nobis, voluptate molestias numquam dolore officiis. Nisi officiis atque expedita ratione praesentium, vitae consectetur explicabo esse aliquid autem?', role='assistant', function_call=None, tool_calls=None))], created=1719141226, model='', object='chat.completion', service_tier=None, system_fingerprint='mock', usage=CompletionUsage(completion_tokens=3, prompt_tokens=4, total_tokens=7))\n"
     ]
    }
   ],
   "source": [
    "print(chat_completion)"
   ]
  },
  {
   "cell_type": "code",
   "execution_count": null,
   "metadata": {},
   "outputs": [],
   "source": []
  }
 ],
 "metadata": {
  "kernelspec": {
   "display_name": "Python 3",
   "language": "python",
   "name": "python3"
  },
  "language_info": {
   "codemirror_mode": {
    "name": "ipython",
    "version": 3
   },
   "file_extension": ".py",
   "mimetype": "text/x-python",
   "name": "python",
   "nbconvert_exporter": "python",
   "pygments_lexer": "ipython3",
   "version": "3.10.13"
  }
 },
 "nbformat": 4,
 "nbformat_minor": 2
}
